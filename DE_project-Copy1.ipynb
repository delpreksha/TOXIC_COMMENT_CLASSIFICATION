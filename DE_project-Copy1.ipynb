{
 "cells": [
  {
   "cell_type": "markdown",
   "metadata": {},
   "source": [
    "## Importing necessary libraries:"
   ]
  },
  {
   "cell_type": "code",
   "execution_count": 76,
   "metadata": {},
   "outputs": [],
   "source": [
    "import numpy as np # linear algebra\n",
    "import pandas as pd # data processing, CSV file I/O\n",
    "import matplotlib.pyplot as plt  #data visualization\n",
    "%matplotlib inline\n",
    "import seaborn as sns\n",
    "from keras.preprocessing.text import Tokenizer\n",
    "from keras.preprocessing.sequence import pad_sequences\n",
    "from sklearn.feature_extraction.text import TfidfVectorizer\n",
    "from sklearn.linear_model import LogisticRegression\n",
    "from sklearn.model_selection import cross_val_score\n",
    "from sklearn.metrics import accuracy_score\n",
    "from sklearn.pipeline import make_union"
   ]
  },
  {
   "cell_type": "markdown",
   "metadata": {},
   "source": [
    "Loading training and testing data in pandas dataframe:"
   ]
  },
  {
   "cell_type": "code",
   "execution_count": 77,
   "metadata": {},
   "outputs": [],
   "source": [
    "data = pd.read_csv('train.csv')"
   ]
  },
  {
   "cell_type": "markdown",
   "metadata": {},
   "source": [
    "Train-test split:"
   ]
  },
  {
   "cell_type": "code",
   "execution_count": 78,
   "metadata": {},
   "outputs": [],
   "source": [
    "cut_point = int(data.shape[0]*0.70)\n",
    "train = data[:cut_point]\n",
    "test = data[cut_point:]"
   ]
  },
  {
   "cell_type": "markdown",
   "metadata": {},
   "source": [
    "## Our dataset:"
   ]
  },
  {
   "cell_type": "code",
   "execution_count": 80,
   "metadata": {
    "scrolled": true
   },
   "outputs": [
    {
     "name": "stdout",
     "output_type": "stream",
     "text": [
      "Shape of training data: (111699, 8) \n",
      "\n",
      "First 15 entries of our dataset:\n"
     ]
    },
    {
     "data": {
      "text/html": [
       "<div>\n",
       "<style scoped>\n",
       "    .dataframe tbody tr th:only-of-type {\n",
       "        vertical-align: middle;\n",
       "    }\n",
       "\n",
       "    .dataframe tbody tr th {\n",
       "        vertical-align: top;\n",
       "    }\n",
       "\n",
       "    .dataframe thead th {\n",
       "        text-align: right;\n",
       "    }\n",
       "</style>\n",
       "<table border=\"1\" class=\"dataframe\">\n",
       "  <thead>\n",
       "    <tr style=\"text-align: right;\">\n",
       "      <th></th>\n",
       "      <th>id</th>\n",
       "      <th>comment_text</th>\n",
       "      <th>toxic</th>\n",
       "      <th>severe_toxic</th>\n",
       "      <th>obscene</th>\n",
       "      <th>threat</th>\n",
       "      <th>insult</th>\n",
       "      <th>identity_hate</th>\n",
       "    </tr>\n",
       "  </thead>\n",
       "  <tbody>\n",
       "    <tr>\n",
       "      <th>0</th>\n",
       "      <td>0000997932d777bf</td>\n",
       "      <td>Explanation\\nWhy the edits made under my usern...</td>\n",
       "      <td>0</td>\n",
       "      <td>0</td>\n",
       "      <td>0</td>\n",
       "      <td>0</td>\n",
       "      <td>0</td>\n",
       "      <td>0</td>\n",
       "    </tr>\n",
       "    <tr>\n",
       "      <th>1</th>\n",
       "      <td>000103f0d9cfb60f</td>\n",
       "      <td>D'aww! He matches this background colour I'm s...</td>\n",
       "      <td>0</td>\n",
       "      <td>0</td>\n",
       "      <td>0</td>\n",
       "      <td>0</td>\n",
       "      <td>0</td>\n",
       "      <td>0</td>\n",
       "    </tr>\n",
       "    <tr>\n",
       "      <th>2</th>\n",
       "      <td>000113f07ec002fd</td>\n",
       "      <td>Hey man, I'm really not trying to edit war. It...</td>\n",
       "      <td>0</td>\n",
       "      <td>0</td>\n",
       "      <td>0</td>\n",
       "      <td>0</td>\n",
       "      <td>0</td>\n",
       "      <td>0</td>\n",
       "    </tr>\n",
       "    <tr>\n",
       "      <th>3</th>\n",
       "      <td>0001b41b1c6bb37e</td>\n",
       "      <td>\"\\nMore\\nI can't make any real suggestions on ...</td>\n",
       "      <td>0</td>\n",
       "      <td>0</td>\n",
       "      <td>0</td>\n",
       "      <td>0</td>\n",
       "      <td>0</td>\n",
       "      <td>0</td>\n",
       "    </tr>\n",
       "    <tr>\n",
       "      <th>4</th>\n",
       "      <td>0001d958c54c6e35</td>\n",
       "      <td>You, sir, are my hero. Any chance you remember...</td>\n",
       "      <td>0</td>\n",
       "      <td>0</td>\n",
       "      <td>0</td>\n",
       "      <td>0</td>\n",
       "      <td>0</td>\n",
       "      <td>0</td>\n",
       "    </tr>\n",
       "    <tr>\n",
       "      <th>5</th>\n",
       "      <td>00025465d4725e87</td>\n",
       "      <td>\"\\n\\nCongratulations from me as well, use the ...</td>\n",
       "      <td>0</td>\n",
       "      <td>0</td>\n",
       "      <td>0</td>\n",
       "      <td>0</td>\n",
       "      <td>0</td>\n",
       "      <td>0</td>\n",
       "    </tr>\n",
       "    <tr>\n",
       "      <th>6</th>\n",
       "      <td>0002bcb3da6cb337</td>\n",
       "      <td>COCKSUCKER BEFORE YOU PISS AROUND ON MY WORK</td>\n",
       "      <td>1</td>\n",
       "      <td>1</td>\n",
       "      <td>1</td>\n",
       "      <td>0</td>\n",
       "      <td>1</td>\n",
       "      <td>0</td>\n",
       "    </tr>\n",
       "    <tr>\n",
       "      <th>7</th>\n",
       "      <td>00031b1e95af7921</td>\n",
       "      <td>Your vandalism to the Matt Shirvington article...</td>\n",
       "      <td>0</td>\n",
       "      <td>0</td>\n",
       "      <td>0</td>\n",
       "      <td>0</td>\n",
       "      <td>0</td>\n",
       "      <td>0</td>\n",
       "    </tr>\n",
       "    <tr>\n",
       "      <th>8</th>\n",
       "      <td>00037261f536c51d</td>\n",
       "      <td>Sorry if the word 'nonsense' was offensive to ...</td>\n",
       "      <td>0</td>\n",
       "      <td>0</td>\n",
       "      <td>0</td>\n",
       "      <td>0</td>\n",
       "      <td>0</td>\n",
       "      <td>0</td>\n",
       "    </tr>\n",
       "    <tr>\n",
       "      <th>9</th>\n",
       "      <td>00040093b2687caa</td>\n",
       "      <td>alignment on this subject and which are contra...</td>\n",
       "      <td>0</td>\n",
       "      <td>0</td>\n",
       "      <td>0</td>\n",
       "      <td>0</td>\n",
       "      <td>0</td>\n",
       "      <td>0</td>\n",
       "    </tr>\n",
       "    <tr>\n",
       "      <th>10</th>\n",
       "      <td>0005300084f90edc</td>\n",
       "      <td>\"\\nFair use rationale for Image:Wonju.jpg\\n\\nT...</td>\n",
       "      <td>0</td>\n",
       "      <td>0</td>\n",
       "      <td>0</td>\n",
       "      <td>0</td>\n",
       "      <td>0</td>\n",
       "      <td>0</td>\n",
       "    </tr>\n",
       "    <tr>\n",
       "      <th>11</th>\n",
       "      <td>00054a5e18b50dd4</td>\n",
       "      <td>bbq \\n\\nbe a man and lets discuss it-maybe ove...</td>\n",
       "      <td>0</td>\n",
       "      <td>0</td>\n",
       "      <td>0</td>\n",
       "      <td>0</td>\n",
       "      <td>0</td>\n",
       "      <td>0</td>\n",
       "    </tr>\n",
       "    <tr>\n",
       "      <th>12</th>\n",
       "      <td>0005c987bdfc9d4b</td>\n",
       "      <td>Hey... what is it..\\n@ | talk .\\nWhat is it......</td>\n",
       "      <td>1</td>\n",
       "      <td>0</td>\n",
       "      <td>0</td>\n",
       "      <td>0</td>\n",
       "      <td>0</td>\n",
       "      <td>0</td>\n",
       "    </tr>\n",
       "    <tr>\n",
       "      <th>13</th>\n",
       "      <td>0006f16e4e9f292e</td>\n",
       "      <td>Before you start throwing accusations and warn...</td>\n",
       "      <td>0</td>\n",
       "      <td>0</td>\n",
       "      <td>0</td>\n",
       "      <td>0</td>\n",
       "      <td>0</td>\n",
       "      <td>0</td>\n",
       "    </tr>\n",
       "    <tr>\n",
       "      <th>14</th>\n",
       "      <td>00070ef96486d6f9</td>\n",
       "      <td>Oh, and the girl above started her arguments w...</td>\n",
       "      <td>0</td>\n",
       "      <td>0</td>\n",
       "      <td>0</td>\n",
       "      <td>0</td>\n",
       "      <td>0</td>\n",
       "      <td>0</td>\n",
       "    </tr>\n",
       "    <tr>\n",
       "      <th>15</th>\n",
       "      <td>00078f8ce7eb276d</td>\n",
       "      <td>\"\\n\\nJuelz Santanas Age\\n\\nIn 2002, Juelz Sant...</td>\n",
       "      <td>0</td>\n",
       "      <td>0</td>\n",
       "      <td>0</td>\n",
       "      <td>0</td>\n",
       "      <td>0</td>\n",
       "      <td>0</td>\n",
       "    </tr>\n",
       "  </tbody>\n",
       "</table>\n",
       "</div>"
      ],
      "text/plain": [
       "                  id                                       comment_text  \\\n",
       "0   0000997932d777bf  Explanation\\nWhy the edits made under my usern...   \n",
       "1   000103f0d9cfb60f  D'aww! He matches this background colour I'm s...   \n",
       "2   000113f07ec002fd  Hey man, I'm really not trying to edit war. It...   \n",
       "3   0001b41b1c6bb37e  \"\\nMore\\nI can't make any real suggestions on ...   \n",
       "4   0001d958c54c6e35  You, sir, are my hero. Any chance you remember...   \n",
       "5   00025465d4725e87  \"\\n\\nCongratulations from me as well, use the ...   \n",
       "6   0002bcb3da6cb337       COCKSUCKER BEFORE YOU PISS AROUND ON MY WORK   \n",
       "7   00031b1e95af7921  Your vandalism to the Matt Shirvington article...   \n",
       "8   00037261f536c51d  Sorry if the word 'nonsense' was offensive to ...   \n",
       "9   00040093b2687caa  alignment on this subject and which are contra...   \n",
       "10  0005300084f90edc  \"\\nFair use rationale for Image:Wonju.jpg\\n\\nT...   \n",
       "11  00054a5e18b50dd4  bbq \\n\\nbe a man and lets discuss it-maybe ove...   \n",
       "12  0005c987bdfc9d4b  Hey... what is it..\\n@ | talk .\\nWhat is it......   \n",
       "13  0006f16e4e9f292e  Before you start throwing accusations and warn...   \n",
       "14  00070ef96486d6f9  Oh, and the girl above started her arguments w...   \n",
       "15  00078f8ce7eb276d  \"\\n\\nJuelz Santanas Age\\n\\nIn 2002, Juelz Sant...   \n",
       "\n",
       "    toxic  severe_toxic  obscene  threat  insult  identity_hate  \n",
       "0       0             0        0       0       0              0  \n",
       "1       0             0        0       0       0              0  \n",
       "2       0             0        0       0       0              0  \n",
       "3       0             0        0       0       0              0  \n",
       "4       0             0        0       0       0              0  \n",
       "5       0             0        0       0       0              0  \n",
       "6       1             1        1       0       1              0  \n",
       "7       0             0        0       0       0              0  \n",
       "8       0             0        0       0       0              0  \n",
       "9       0             0        0       0       0              0  \n",
       "10      0             0        0       0       0              0  \n",
       "11      0             0        0       0       0              0  \n",
       "12      1             0        0       0       0              0  \n",
       "13      0             0        0       0       0              0  \n",
       "14      0             0        0       0       0              0  \n",
       "15      0             0        0       0       0              0  "
      ]
     },
     "execution_count": 80,
     "metadata": {},
     "output_type": "execute_result"
    }
   ],
   "source": [
    "print(\"Shape of training data:\",train.shape,'\\n')\n",
    "\n",
    "print(\"First 15 entries of our dataset:\")\n",
    "train.head(16)"
   ]
  },
  {
   "cell_type": "code",
   "execution_count": 81,
   "metadata": {},
   "outputs": [],
   "source": [
    "classes = [\"toxic\", \"severe_toxic\", \"obscene\", \"threat\", \"insult\", \"identity_hate\"]\n",
    "train_text = train['comment_text']\n",
    "test_text = test['comment_text']\n",
    "y_train = train[classes].values\n",
    "y_test = test[classes].values"
   ]
  },
  {
   "cell_type": "markdown",
   "metadata": {},
   "source": [
    "# Data Preprocessing and Visualization:"
   ]
  },
  {
   "cell_type": "markdown",
   "metadata": {},
   "source": [
    "Checking for null values:"
   ]
  },
  {
   "cell_type": "code",
   "execution_count": 82,
   "metadata": {},
   "outputs": [
    {
     "name": "stdout",
     "output_type": "stream",
     "text": [
      "null values in training data:\n",
      "\n",
      " id               False\n",
      "comment_text     False\n",
      "toxic            False\n",
      "severe_toxic     False\n",
      "obscene          False\n",
      "threat           False\n",
      "insult           False\n",
      "identity_hate    False\n",
      "dtype: bool \n",
      "\n",
      "null values in testing data:\n",
      "\n",
      " id               False\n",
      "comment_text     False\n",
      "toxic            False\n",
      "severe_toxic     False\n",
      "obscene          False\n",
      "threat           False\n",
      "insult           False\n",
      "identity_hate    False\n",
      "dtype: bool \n",
      "\n"
     ]
    }
   ],
   "source": [
    "print(\"null values in training data:\\n\\n\",train.isnull().any(),'\\n')\n",
    "print(\"null values in testing data:\\n\\n\",test.isnull().any(),'\\n')"
   ]
  },
  {
   "cell_type": "markdown",
   "metadata": {},
   "source": [
    "Understanding the comments in our training data:"
   ]
  },
  {
   "cell_type": "code",
   "execution_count": 83,
   "metadata": {},
   "outputs": [
    {
     "name": "stdout",
     "output_type": "stream",
     "text": [
      "count    111699.000000\n",
      "mean        395.684581\n",
      "std         594.898991\n",
      "min           6.000000\n",
      "25%          96.000000\n",
      "50%         205.000000\n",
      "75%         436.000000\n",
      "max        5000.000000\n",
      "Name: comment_text, dtype: float64\n"
     ]
    }
   ],
   "source": [
    "print(train.comment_text.str.len().describe())"
   ]
  },
  {
   "cell_type": "markdown",
   "metadata": {},
   "source": [
    "Adding a column for non-toxic comments in the training data:"
   ]
  },
  {
   "cell_type": "code",
   "execution_count": 84,
   "metadata": {},
   "outputs": [
    {
     "name": "stderr",
     "output_type": "stream",
     "text": [
      "/home/siddhi/anaconda3/lib/python3.7/site-packages/ipykernel_launcher.py:1: SettingWithCopyWarning: \n",
      "A value is trying to be set on a copy of a slice from a DataFrame.\n",
      "Try using .loc[row_indexer,col_indexer] = value instead\n",
      "\n",
      "See the caveats in the documentation: http://pandas.pydata.org/pandas-docs/stable/indexing.html#indexing-view-versus-copy\n",
      "  \"\"\"Entry point for launching an IPython kernel.\n"
     ]
    }
   ],
   "source": [
    "train['non_toxic'] = 1 - train[train.columns[2:]].max(axis =1)\n"
   ]
  },
  {
   "cell_type": "code",
   "execution_count": 85,
   "metadata": {},
   "outputs": [
    {
     "name": "stdout",
     "output_type": "stream",
     "text": [
      "total number of comments: 111699 \n",
      " number of comments belonging to each class \n",
      " toxic             10735\n",
      "severe_toxic       1104\n",
      "obscene            5924\n",
      "threat              342\n",
      "insult             5521\n",
      "identity_hate       956\n",
      "non_toxic        100318\n",
      "dtype: int64\n"
     ]
    }
   ],
   "source": [
    "x = train.iloc[:,2:].sum()\n",
    "print('total number of comments:',len(train),'\\n','number of comments belonging to each class','\\n',x)"
   ]
  },
  {
   "cell_type": "markdown",
   "metadata": {},
   "source": [
    "Barplot for the class-distribution of comments in training data:"
   ]
  },
  {
   "cell_type": "code",
   "execution_count": 86,
   "metadata": {},
   "outputs": [
    {
     "data": {
      "image/png": "[encoded data removed]",
      "text/plain": [
       "<Figure size 1080x360 with 1 Axes>"
      ]
     },
     "metadata": {
      "needs_background": "light"
     },
     "output_type": "display_data"
    }
   ],
   "source": [
    "plt.figure(figsize=(15,5))\n",
    "sns.barplot(x.index,x.values)\n",
    "plt.xticks(rotation=90)\n",
    "plt.title('class distribution')\n",
    "plt.show()"
   ]
  },
  {
   "cell_type": "markdown",
   "metadata": {},
   "source": [
    "Tokenizing the comments:"
   ]
  },
  {
   "cell_type": "code",
   "execution_count": 87,
   "metadata": {},
   "outputs": [],
   "source": [
    "max_features = 30000\n",
    "tokenizer = Tokenizer(num_words=max_features)\n",
    "tokenizer.fit_on_texts(list(train_text))\n",
    "list_tokenized_train = tokenizer.texts_to_sequences(train_text)\n",
    "list_tokenized_test = tokenizer.texts_to_sequences(test_text)"
   ]
  },
  {
   "cell_type": "markdown",
   "metadata": {},
   "source": [
    "Comments in tokenized form:"
   ]
  },
  {
   "cell_type": "code",
   "execution_count": 88,
   "metadata": {},
   "outputs": [
    {
     "name": "stdout",
     "output_type": "stream",
     "text": [
      "[[695, 74, 1, 124, 130, 177, 29, 676, 4606, 12526, 1082, 86, 332, 51, 2281, 10875, 50, 7097, 15, 60, 2701, 146, 7, 2943, 34, 117, 1183, 13293, 2740, 4, 45, 59, 247, 1, 394, 32, 1, 37, 27, 145, 73, 3588, 89, 2969, 4372, 2169, 1034], [52, 2749, 13, 537, 3662, 73, 4919, 2702, 21, 93, 37, 821, 2750, 1002, 571, 9571, 182], [414, 437, 73, 135, 14, 250, 2, 71, 318, 77, 50, 9, 13, 617, 8, 2326, 486, 509, 101, 4, 599, 2, 36, 328, 124, 368, 3, 29, 37, 27, 52, 205, 2, 476, 57, 35, 1, 2433, 94, 1, 723, 466], [57, 7, 238, 97, 55, 334, 1439, 15, 2088, 7, 6442, 22, 1, 126, 2422, 56, 16, 512, 15, 25, 5, 4021, 3, 1339, 3, 9726, 7, 67, 1, 278, 85, 122, 13294, 38, 9, 51, 18, 42, 10, 1, 1487, 138, 1245, 2143, 433, 1245, 307, 7, 39, 33, 9, 512, 15, 22, 46, 48, 327, 103, 112, 22, 6, 19, 55, 4373, 12, 2433, 275, 15, 278, 25, 107, 2, 33, 11, 199, 45, 268, 36, 69, 41, 548, 2, 16, 5, 5970, 15, 81, 12, 398, 38, 7, 637, 41, 85, 16, 5, 2054, 379, 5, 3069, 3207, 76, 77, 418, 10, 1, 509, 640, 3608, 28, 98, 23, 3577, 4920], [6, 1707, 18, 29, 3640, 55, 1060, 6, 598, 40, 27, 212, 15], [2758, 32, 36, 17, 100, 80, 1, 2259, 100, 12202, 37], [2035, 148, 6, 3624, 325, 15, 29, 141], [20, 195, 2, 1, 3589, 23, 43, 54, 332, 45, 59, 33, 11, 125, 25, 6, 44, 16, 679], [259, 22, 1, 286, 24, 1526, 2, 6, 484, 73, 14, 9433, 2, 338, 219, 10, 1, 23, 1423, 51, 47, 2811, 15, 36, 12, 195, 73, 1072, 1018, 9, 11, 16, 57, 1386, 38, 48, 39, 80, 11, 12, 504, 17, 5, 271, 7, 19, 54, 2, 1, 4809, 7824, 27, 26, 77, 671, 5, 1345, 11, 701, 2, 53, 8, 5, 711, 7392, 23, 9, 1114, 6, 46, 466, 41, 249, 16, 161, 325, 21, 3756, 10, 13295, 3397, 4722, 3842, 4921], [12203, 15, 13, 243, 4, 53, 18, 1830, 2, 143, 3]]\n"
     ]
    }
   ],
   "source": [
    "print(list_tokenized_train[:10])"
   ]
  },
  {
   "cell_type": "markdown",
   "metadata": {},
   "source": [
    "Histogram to visualize the distribution of number of words in each comment:"
   ]
  },
  {
   "cell_type": "code",
   "execution_count": 89,
   "metadata": {},
   "outputs": [
    {
     "data": {
      "image/png": "[encoded data removed]",
      "text/plain": [
       "<Figure size 432x288 with 1 Axes>"
      ]
     },
     "metadata": {
      "needs_background": "light"
     },
     "output_type": "display_data"
    }
   ],
   "source": [
    "totalNumWords = [len(one_comment) for one_comment in list_tokenized_train]\n",
    "plt.hist(totalNumWords,bins = np.arange(0,500,5))\n",
    "plt.xlabel(\"no of words\")\n",
    "plt.ylabel(\"no of comments\")\n",
    "plt.show()"
   ]
  },
  {
   "cell_type": "markdown",
   "metadata": {},
   "source": [
    "## Training Model:"
   ]
  },
  {
   "cell_type": "markdown",
   "metadata": {},
   "source": [
    "For training Machine Learning models, simple tokenizing and word counts are a good starting point, but are very basic.\n",
    "\n",
    "One issue with simple counts is that some words like “the”,\"a\",\"is\" etc appear many times and their large counts do not add any meaning to the model.\n",
    "\n",
    "An alternative is to calculate word frequencies, and by far the most popular method is called TF-IDF. This is an acronym than stands for “Term Frequency – Inverse Document Frequency\" which are the components of the resulting scores assigned to each word."
   ]
  },
  {
   "cell_type": "markdown",
   "metadata": {},
   "source": [
    "Converting the comments into a matrix of TF-IDF features."
   ]
  },
  {
   "cell_type": "code",
   "execution_count": 90,
   "metadata": {},
   "outputs": [],
   "source": [
    "word_vectorizer = TfidfVectorizer(sublinear_tf=True,strip_accents='unicode',analyzer='word',\n",
    "                                  token_pattern=r'\\w{1,}',ngram_range=(1, 1),max_features=30000)\n",
    "char_vectorizer = TfidfVectorizer(sublinear_tf=True,strip_accents='unicode',analyzer='char',\n",
    "                                  ngram_range=(1, 4),max_features=30000)\n",
    "vectorizer = make_union(word_vectorizer, char_vectorizer, n_jobs=2)\n"
   ]
  },
  {
   "cell_type": "code",
   "execution_count": 91,
   "metadata": {},
   "outputs": [],
   "source": [
    "vectorizer.fit(train_text)\n",
    "train_features = vectorizer.transform(train_text)\n",
    "test_features = vectorizer.transform(test_text)"
   ]
  },
  {
   "cell_type": "markdown",
   "metadata": {},
   "source": [
    "Training Logistic Regression model on the processed data:"
   ]
  },
  {
   "cell_type": "code",
   "execution_count": 92,
   "metadata": {},
   "outputs": [
    {
     "name": "stdout",
     "output_type": "stream",
     "text": [
      "cross-validation score for class toxic is 0.9612530073443464\n",
      "cross-validation score for class severe_toxic is 0.9906982112490358\n",
      "cross-validation score for class obscene is 0.9797849616291456\n",
      "cross-validation score for class threat is 0.9971441116278659\n",
      "cross-validation score for class insult is 0.9729720426802777\n",
      "cross-validation score for class identity_hate is 0.9925872168373571\n",
      "Total average cross-validation score is 0.9824065918946715\n"
     ]
    }
   ],
   "source": [
    "scores = []\n",
    "output = pd.DataFrame.from_dict({'id': test['id']})\n",
    "for class_name in classes:\n",
    "    train_target = train[class_name]\n",
    "    model = LogisticRegression(solver='sag')\n",
    "\n",
    "    cv_score = np.mean(cross_val_score(model, train_features, train_target, cv=5))\n",
    "    scores.append(cv_score)\n",
    "    print('cross-validation score for class {} is {}'.format(class_name, cv_score))\n",
    "\n",
    "    model.fit(train_features, train_target)\n",
    "    output[class_name] = model.predict_proba(test_features)[:, 1]\n",
    "\n",
    "print('Total average cross-validation score is {}'.format(np.mean(scores)))\n",
    "\n",
    "output.to_csv('output.csv', index=False)"
   ]
  },
  {
   "cell_type": "markdown",
   "metadata": {},
   "source": [
    "Predicted probabilities for toxicity of each class in our output:"
   ]
  },
  {
   "cell_type": "code",
   "execution_count": 94,
   "metadata": {},
   "outputs": [
    {
     "data": {
      "text/html": [
       "<div>\n",
       "<style scoped>\n",
       "    .dataframe tbody tr th:only-of-type {\n",
       "        vertical-align: middle;\n",
       "    }\n",
       "\n",
       "    .dataframe tbody tr th {\n",
       "        vertical-align: top;\n",
       "    }\n",
       "\n",
       "    .dataframe thead th {\n",
       "        text-align: right;\n",
       "    }\n",
       "</style>\n",
       "<table border=\"1\" class=\"dataframe\">\n",
       "  <thead>\n",
       "    <tr style=\"text-align: right;\">\n",
       "      <th></th>\n",
       "      <th>id</th>\n",
       "      <th>toxic</th>\n",
       "      <th>severe_toxic</th>\n",
       "      <th>obscene</th>\n",
       "      <th>threat</th>\n",
       "      <th>insult</th>\n",
       "      <th>identity_hate</th>\n",
       "    </tr>\n",
       "  </thead>\n",
       "  <tbody>\n",
       "    <tr>\n",
       "      <th>111699</th>\n",
       "      <td>55858b89f99e9bda</td>\n",
       "      <td>0.408590</td>\n",
       "      <td>0.008519</td>\n",
       "      <td>0.030560</td>\n",
       "      <td>0.004674</td>\n",
       "      <td>0.095804</td>\n",
       "      <td>0.056625</td>\n",
       "    </tr>\n",
       "    <tr>\n",
       "      <th>111700</th>\n",
       "      <td>5586a218c2393d06</td>\n",
       "      <td>0.019950</td>\n",
       "      <td>0.006419</td>\n",
       "      <td>0.012636</td>\n",
       "      <td>0.004116</td>\n",
       "      <td>0.008238</td>\n",
       "      <td>0.008014</td>\n",
       "    </tr>\n",
       "    <tr>\n",
       "      <th>111701</th>\n",
       "      <td>5588be8efb4c1515</td>\n",
       "      <td>0.010492</td>\n",
       "      <td>0.001994</td>\n",
       "      <td>0.008307</td>\n",
       "      <td>0.000891</td>\n",
       "      <td>0.023053</td>\n",
       "      <td>0.005272</td>\n",
       "    </tr>\n",
       "    <tr>\n",
       "      <th>111702</th>\n",
       "      <td>558a1f3d0f4fcc03</td>\n",
       "      <td>0.097654</td>\n",
       "      <td>0.000496</td>\n",
       "      <td>0.013723</td>\n",
       "      <td>0.000503</td>\n",
       "      <td>0.025351</td>\n",
       "      <td>0.003099</td>\n",
       "    </tr>\n",
       "    <tr>\n",
       "      <th>111703</th>\n",
       "      <td>558e22e3c617327e</td>\n",
       "      <td>0.002245</td>\n",
       "      <td>0.000548</td>\n",
       "      <td>0.002298</td>\n",
       "      <td>0.000272</td>\n",
       "      <td>0.001763</td>\n",
       "      <td>0.001099</td>\n",
       "    </tr>\n",
       "    <tr>\n",
       "      <th>111704</th>\n",
       "      <td>558e293118141536</td>\n",
       "      <td>0.024911</td>\n",
       "      <td>0.001523</td>\n",
       "      <td>0.005579</td>\n",
       "      <td>0.000846</td>\n",
       "      <td>0.006014</td>\n",
       "      <td>0.000603</td>\n",
       "    </tr>\n",
       "    <tr>\n",
       "      <th>111705</th>\n",
       "      <td>558ea55c7fd61f0b</td>\n",
       "      <td>0.995618</td>\n",
       "      <td>0.123616</td>\n",
       "      <td>0.987927</td>\n",
       "      <td>0.008621</td>\n",
       "      <td>0.653534</td>\n",
       "      <td>0.022796</td>\n",
       "    </tr>\n",
       "    <tr>\n",
       "      <th>111706</th>\n",
       "      <td>559148ab67cff41d</td>\n",
       "      <td>0.004609</td>\n",
       "      <td>0.000686</td>\n",
       "      <td>0.002326</td>\n",
       "      <td>0.000363</td>\n",
       "      <td>0.001692</td>\n",
       "      <td>0.001047</td>\n",
       "    </tr>\n",
       "    <tr>\n",
       "      <th>111707</th>\n",
       "      <td>55943f89019b8090</td>\n",
       "      <td>0.034347</td>\n",
       "      <td>0.001789</td>\n",
       "      <td>0.007144</td>\n",
       "      <td>0.000964</td>\n",
       "      <td>0.014858</td>\n",
       "      <td>0.005800</td>\n",
       "    </tr>\n",
       "    <tr>\n",
       "      <th>111708</th>\n",
       "      <td>5597b5b3b1b54cdb</td>\n",
       "      <td>0.017422</td>\n",
       "      <td>0.001171</td>\n",
       "      <td>0.005543</td>\n",
       "      <td>0.001277</td>\n",
       "      <td>0.006316</td>\n",
       "      <td>0.000851</td>\n",
       "    </tr>\n",
       "    <tr>\n",
       "      <th>111709</th>\n",
       "      <td>5598409e302f8ef3</td>\n",
       "      <td>0.024136</td>\n",
       "      <td>0.002861</td>\n",
       "      <td>0.011001</td>\n",
       "      <td>0.001162</td>\n",
       "      <td>0.002575</td>\n",
       "      <td>0.002683</td>\n",
       "    </tr>\n",
       "    <tr>\n",
       "      <th>111710</th>\n",
       "      <td>559974ee2d432d06</td>\n",
       "      <td>0.000991</td>\n",
       "      <td>0.000311</td>\n",
       "      <td>0.002630</td>\n",
       "      <td>0.000257</td>\n",
       "      <td>0.001575</td>\n",
       "      <td>0.000425</td>\n",
       "    </tr>\n",
       "    <tr>\n",
       "      <th>111711</th>\n",
       "      <td>559975f544b8ed03</td>\n",
       "      <td>0.009107</td>\n",
       "      <td>0.000678</td>\n",
       "      <td>0.003042</td>\n",
       "      <td>0.000377</td>\n",
       "      <td>0.006004</td>\n",
       "      <td>0.001751</td>\n",
       "    </tr>\n",
       "    <tr>\n",
       "      <th>111712</th>\n",
       "      <td>559a1b16a435e260</td>\n",
       "      <td>0.001278</td>\n",
       "      <td>0.001122</td>\n",
       "      <td>0.002544</td>\n",
       "      <td>0.000985</td>\n",
       "      <td>0.004997</td>\n",
       "      <td>0.001277</td>\n",
       "    </tr>\n",
       "    <tr>\n",
       "      <th>111713</th>\n",
       "      <td>559a1b26f6c25d95</td>\n",
       "      <td>0.036953</td>\n",
       "      <td>0.001821</td>\n",
       "      <td>0.006761</td>\n",
       "      <td>0.000621</td>\n",
       "      <td>0.005453</td>\n",
       "      <td>0.001718</td>\n",
       "    </tr>\n",
       "    <tr>\n",
       "      <th>111714</th>\n",
       "      <td>559a1de455a944e1</td>\n",
       "      <td>0.017292</td>\n",
       "      <td>0.000648</td>\n",
       "      <td>0.003894</td>\n",
       "      <td>0.000590</td>\n",
       "      <td>0.008431</td>\n",
       "      <td>0.001036</td>\n",
       "    </tr>\n",
       "  </tbody>\n",
       "</table>\n",
       "</div>"
      ],
      "text/plain": [
       "                      id     toxic  severe_toxic   obscene    threat  \\\n",
       "111699  55858b89f99e9bda  0.408590      0.008519  0.030560  0.004674   \n",
       "111700  5586a218c2393d06  0.019950      0.006419  0.012636  0.004116   \n",
       "111701  5588be8efb4c1515  0.010492      0.001994  0.008307  0.000891   \n",
       "111702  558a1f3d0f4fcc03  0.097654      0.000496  0.013723  0.000503   \n",
       "111703  558e22e3c617327e  0.002245      0.000548  0.002298  0.000272   \n",
       "111704  558e293118141536  0.024911      0.001523  0.005579  0.000846   \n",
       "111705  558ea55c7fd61f0b  0.995618      0.123616  0.987927  0.008621   \n",
       "111706  559148ab67cff41d  0.004609      0.000686  0.002326  0.000363   \n",
       "111707  55943f89019b8090  0.034347      0.001789  0.007144  0.000964   \n",
       "111708  5597b5b3b1b54cdb  0.017422      0.001171  0.005543  0.001277   \n",
       "111709  5598409e302f8ef3  0.024136      0.002861  0.011001  0.001162   \n",
       "111710  559974ee2d432d06  0.000991      0.000311  0.002630  0.000257   \n",
       "111711  559975f544b8ed03  0.009107      0.000678  0.003042  0.000377   \n",
       "111712  559a1b16a435e260  0.001278      0.001122  0.002544  0.000985   \n",
       "111713  559a1b26f6c25d95  0.036953      0.001821  0.006761  0.000621   \n",
       "111714  559a1de455a944e1  0.017292      0.000648  0.003894  0.000590   \n",
       "\n",
       "          insult  identity_hate  \n",
       "111699  0.095804       0.056625  \n",
       "111700  0.008238       0.008014  \n",
       "111701  0.023053       0.005272  \n",
       "111702  0.025351       0.003099  \n",
       "111703  0.001763       0.001099  \n",
       "111704  0.006014       0.000603  \n",
       "111705  0.653534       0.022796  \n",
       "111706  0.001692       0.001047  \n",
       "111707  0.014858       0.005800  \n",
       "111708  0.006316       0.000851  \n",
       "111709  0.002575       0.002683  \n",
       "111710  0.001575       0.000425  \n",
       "111711  0.006004       0.001751  \n",
       "111712  0.004997       0.001277  \n",
       "111713  0.005453       0.001718  \n",
       "111714  0.008431       0.001036  "
      ]
     },
     "execution_count": 94,
     "metadata": {},
     "output_type": "execute_result"
    }
   ],
   "source": [
    "output.head(16)"
   ]
  },
  {
   "cell_type": "markdown",
   "metadata": {},
   "source": [
    "Converting probabilities into 0/1 using appropriate threshold value:"
   ]
  },
  {
   "cell_type": "code",
   "execution_count": 95,
   "metadata": {},
   "outputs": [
    {
     "name": "stderr",
     "output_type": "stream",
     "text": [
      "/home/siddhi/anaconda3/lib/python3.7/site-packages/ipykernel_launcher.py:2: SettingWithCopyWarning: \n",
      "A value is trying to be set on a copy of a slice from a DataFrame\n",
      "\n",
      "See the caveats in the documentation: http://pandas.pydata.org/pandas-docs/stable/indexing.html#indexing-view-versus-copy\n",
      "  \n",
      "/home/siddhi/anaconda3/lib/python3.7/site-packages/ipykernel_launcher.py:3: SettingWithCopyWarning: \n",
      "A value is trying to be set on a copy of a slice from a DataFrame\n",
      "\n",
      "See the caveats in the documentation: http://pandas.pydata.org/pandas-docs/stable/indexing.html#indexing-view-versus-copy\n",
      "  This is separate from the ipykernel package so we can avoid doing imports until\n"
     ]
    }
   ],
   "source": [
    "for class_name in classes:\n",
    "    output[class_name][output[class_name] > 0.6] = 1\n",
    "    output[class_name][output[class_name] <= 0.6] = 0"
   ]
  },
  {
   "cell_type": "markdown",
   "metadata": {},
   "source": [
    "Updated output:"
   ]
  },
  {
   "cell_type": "code",
   "execution_count": 96,
   "metadata": {},
   "outputs": [
    {
     "data": {
      "text/html": [
       "<div>\n",
       "<style scoped>\n",
       "    .dataframe tbody tr th:only-of-type {\n",
       "        vertical-align: middle;\n",
       "    }\n",
       "\n",
       "    .dataframe tbody tr th {\n",
       "        vertical-align: top;\n",
       "    }\n",
       "\n",
       "    .dataframe thead th {\n",
       "        text-align: right;\n",
       "    }\n",
       "</style>\n",
       "<table border=\"1\" class=\"dataframe\">\n",
       "  <thead>\n",
       "    <tr style=\"text-align: right;\">\n",
       "      <th></th>\n",
       "      <th>id</th>\n",
       "      <th>toxic</th>\n",
       "      <th>severe_toxic</th>\n",
       "      <th>obscene</th>\n",
       "      <th>threat</th>\n",
       "      <th>insult</th>\n",
       "      <th>identity_hate</th>\n",
       "    </tr>\n",
       "  </thead>\n",
       "  <tbody>\n",
       "    <tr>\n",
       "      <th>111699</th>\n",
       "      <td>55858b89f99e9bda</td>\n",
       "      <td>0.0</td>\n",
       "      <td>0.0</td>\n",
       "      <td>0.0</td>\n",
       "      <td>0.0</td>\n",
       "      <td>0.0</td>\n",
       "      <td>0.0</td>\n",
       "    </tr>\n",
       "    <tr>\n",
       "      <th>111700</th>\n",
       "      <td>5586a218c2393d06</td>\n",
       "      <td>0.0</td>\n",
       "      <td>0.0</td>\n",
       "      <td>0.0</td>\n",
       "      <td>0.0</td>\n",
       "      <td>0.0</td>\n",
       "      <td>0.0</td>\n",
       "    </tr>\n",
       "    <tr>\n",
       "      <th>111701</th>\n",
       "      <td>5588be8efb4c1515</td>\n",
       "      <td>0.0</td>\n",
       "      <td>0.0</td>\n",
       "      <td>0.0</td>\n",
       "      <td>0.0</td>\n",
       "      <td>0.0</td>\n",
       "      <td>0.0</td>\n",
       "    </tr>\n",
       "    <tr>\n",
       "      <th>111702</th>\n",
       "      <td>558a1f3d0f4fcc03</td>\n",
       "      <td>0.0</td>\n",
       "      <td>0.0</td>\n",
       "      <td>0.0</td>\n",
       "      <td>0.0</td>\n",
       "      <td>0.0</td>\n",
       "      <td>0.0</td>\n",
       "    </tr>\n",
       "    <tr>\n",
       "      <th>111703</th>\n",
       "      <td>558e22e3c617327e</td>\n",
       "      <td>0.0</td>\n",
       "      <td>0.0</td>\n",
       "      <td>0.0</td>\n",
       "      <td>0.0</td>\n",
       "      <td>0.0</td>\n",
       "      <td>0.0</td>\n",
       "    </tr>\n",
       "    <tr>\n",
       "      <th>111704</th>\n",
       "      <td>558e293118141536</td>\n",
       "      <td>0.0</td>\n",
       "      <td>0.0</td>\n",
       "      <td>0.0</td>\n",
       "      <td>0.0</td>\n",
       "      <td>0.0</td>\n",
       "      <td>0.0</td>\n",
       "    </tr>\n",
       "    <tr>\n",
       "      <th>111705</th>\n",
       "      <td>558ea55c7fd61f0b</td>\n",
       "      <td>1.0</td>\n",
       "      <td>0.0</td>\n",
       "      <td>1.0</td>\n",
       "      <td>0.0</td>\n",
       "      <td>1.0</td>\n",
       "      <td>0.0</td>\n",
       "    </tr>\n",
       "    <tr>\n",
       "      <th>111706</th>\n",
       "      <td>559148ab67cff41d</td>\n",
       "      <td>0.0</td>\n",
       "      <td>0.0</td>\n",
       "      <td>0.0</td>\n",
       "      <td>0.0</td>\n",
       "      <td>0.0</td>\n",
       "      <td>0.0</td>\n",
       "    </tr>\n",
       "    <tr>\n",
       "      <th>111707</th>\n",
       "      <td>55943f89019b8090</td>\n",
       "      <td>0.0</td>\n",
       "      <td>0.0</td>\n",
       "      <td>0.0</td>\n",
       "      <td>0.0</td>\n",
       "      <td>0.0</td>\n",
       "      <td>0.0</td>\n",
       "    </tr>\n",
       "    <tr>\n",
       "      <th>111708</th>\n",
       "      <td>5597b5b3b1b54cdb</td>\n",
       "      <td>0.0</td>\n",
       "      <td>0.0</td>\n",
       "      <td>0.0</td>\n",
       "      <td>0.0</td>\n",
       "      <td>0.0</td>\n",
       "      <td>0.0</td>\n",
       "    </tr>\n",
       "    <tr>\n",
       "      <th>111709</th>\n",
       "      <td>5598409e302f8ef3</td>\n",
       "      <td>0.0</td>\n",
       "      <td>0.0</td>\n",
       "      <td>0.0</td>\n",
       "      <td>0.0</td>\n",
       "      <td>0.0</td>\n",
       "      <td>0.0</td>\n",
       "    </tr>\n",
       "    <tr>\n",
       "      <th>111710</th>\n",
       "      <td>559974ee2d432d06</td>\n",
       "      <td>0.0</td>\n",
       "      <td>0.0</td>\n",
       "      <td>0.0</td>\n",
       "      <td>0.0</td>\n",
       "      <td>0.0</td>\n",
       "      <td>0.0</td>\n",
       "    </tr>\n",
       "    <tr>\n",
       "      <th>111711</th>\n",
       "      <td>559975f544b8ed03</td>\n",
       "      <td>0.0</td>\n",
       "      <td>0.0</td>\n",
       "      <td>0.0</td>\n",
       "      <td>0.0</td>\n",
       "      <td>0.0</td>\n",
       "      <td>0.0</td>\n",
       "    </tr>\n",
       "    <tr>\n",
       "      <th>111712</th>\n",
       "      <td>559a1b16a435e260</td>\n",
       "      <td>0.0</td>\n",
       "      <td>0.0</td>\n",
       "      <td>0.0</td>\n",
       "      <td>0.0</td>\n",
       "      <td>0.0</td>\n",
       "      <td>0.0</td>\n",
       "    </tr>\n",
       "    <tr>\n",
       "      <th>111713</th>\n",
       "      <td>559a1b26f6c25d95</td>\n",
       "      <td>0.0</td>\n",
       "      <td>0.0</td>\n",
       "      <td>0.0</td>\n",
       "      <td>0.0</td>\n",
       "      <td>0.0</td>\n",
       "      <td>0.0</td>\n",
       "    </tr>\n",
       "    <tr>\n",
       "      <th>111714</th>\n",
       "      <td>559a1de455a944e1</td>\n",
       "      <td>0.0</td>\n",
       "      <td>0.0</td>\n",
       "      <td>0.0</td>\n",
       "      <td>0.0</td>\n",
       "      <td>0.0</td>\n",
       "      <td>0.0</td>\n",
       "    </tr>\n",
       "  </tbody>\n",
       "</table>\n",
       "</div>"
      ],
      "text/plain": [
       "                      id  toxic  severe_toxic  obscene  threat  insult  \\\n",
       "111699  55858b89f99e9bda    0.0           0.0      0.0     0.0     0.0   \n",
       "111700  5586a218c2393d06    0.0           0.0      0.0     0.0     0.0   \n",
       "111701  5588be8efb4c1515    0.0           0.0      0.0     0.0     0.0   \n",
       "111702  558a1f3d0f4fcc03    0.0           0.0      0.0     0.0     0.0   \n",
       "111703  558e22e3c617327e    0.0           0.0      0.0     0.0     0.0   \n",
       "111704  558e293118141536    0.0           0.0      0.0     0.0     0.0   \n",
       "111705  558ea55c7fd61f0b    1.0           0.0      1.0     0.0     1.0   \n",
       "111706  559148ab67cff41d    0.0           0.0      0.0     0.0     0.0   \n",
       "111707  55943f89019b8090    0.0           0.0      0.0     0.0     0.0   \n",
       "111708  5597b5b3b1b54cdb    0.0           0.0      0.0     0.0     0.0   \n",
       "111709  5598409e302f8ef3    0.0           0.0      0.0     0.0     0.0   \n",
       "111710  559974ee2d432d06    0.0           0.0      0.0     0.0     0.0   \n",
       "111711  559975f544b8ed03    0.0           0.0      0.0     0.0     0.0   \n",
       "111712  559a1b16a435e260    0.0           0.0      0.0     0.0     0.0   \n",
       "111713  559a1b26f6c25d95    0.0           0.0      0.0     0.0     0.0   \n",
       "111714  559a1de455a944e1    0.0           0.0      0.0     0.0     0.0   \n",
       "\n",
       "        identity_hate  \n",
       "111699            0.0  \n",
       "111700            0.0  \n",
       "111701            0.0  \n",
       "111702            0.0  \n",
       "111703            0.0  \n",
       "111704            0.0  \n",
       "111705            0.0  \n",
       "111706            0.0  \n",
       "111707            0.0  \n",
       "111708            0.0  \n",
       "111709            0.0  \n",
       "111710            0.0  \n",
       "111711            0.0  \n",
       "111712            0.0  \n",
       "111713            0.0  \n",
       "111714            0.0  "
      ]
     },
     "execution_count": 96,
     "metadata": {},
     "output_type": "execute_result"
    }
   ],
   "source": [
    "output.head(16)"
   ]
  },
  {
   "cell_type": "markdown",
   "metadata": {},
   "source": [
    "Accuracy on testing data:"
   ]
  },
  {
   "cell_type": "code",
   "execution_count": 98,
   "metadata": {},
   "outputs": [
    {
     "name": "stdout",
     "output_type": "stream",
     "text": [
      "Accuracy score for class toxic: 0.9598930481283422\n",
      "Accuracy score for class severe_toxic: 0.9905790441176471\n",
      "Accuracy score for class obscene: 0.9787349598930482\n",
      "Accuracy score for class threat: 0.997576871657754\n",
      "Accuracy score for class insult: 0.9719669117647058\n",
      "Accuracy score for class identity_hate: 0.9917906082887701\n",
      "Total average accuracy score testing data: 0.981756907308378\n"
     ]
    }
   ],
   "source": [
    "list_accuracy = []\n",
    "for class_name in classes:\n",
    "    score = accuracy_score(test[class_name], output[class_name])\n",
    "    print('Accuracy score for class {}:'.format(class_name), score )\n",
    "    list_accuracy.append(score)\n",
    "\n",
    "avg_score = sum(list_accuracy)/len(list_accuracy)\n",
    "print('Total average accuracy score testing data:',avg_score )"
   ]
  }
 ],
 "metadata": {
  "kernelspec": {
   "display_name": "Python 3",
   "language": "python",
   "name": "python3"
  },
  "language_info": {
   "codemirror_mode": {
    "name": "ipython",
    "version": 3
   },
   "file_extension": ".py",
   "mimetype": "text/x-python",
   "name": "python",
   "nbconvert_exporter": "python",
   "pygments_lexer": "ipython3",
   "version": "3.7.3"
  }
 },
 "nbformat": 4,
 "nbformat_minor": 2
}
